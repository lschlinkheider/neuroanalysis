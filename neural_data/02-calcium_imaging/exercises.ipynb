{
 "cells": [
  {
   "cell_type": "markdown",
   "metadata": {},
   "source": [
    "# Exercises"
   ]
  },
  {
   "cell_type": "markdown",
   "metadata": {},
   "source": [
    "## Exercise 1: Image characteristics\n",
    "---\n",
    "\n",
    "**A.** Distiguishing pixels   \n",
    "\n",
    "Fluctuations in the activitation of the neuron can be directly observed on the video or in a temporal trace plot of each pixel. Plotting the temporal trace will allow us to see the calcium transient dinamic, if a pixel belonging to a neuron is selected. \n",
    "\n",
    "* Select a set of *N* random pixels from the ROI and plot the temporal evolution of pixel value. If the random pixels are choosen from an active neuron, you will be able to see the calcium transcient dynamic. Try this a few time to appreciate the results.\n",
    "\n",
    "**B.** Temporal statistics of pixel activation\n",
    " * For the selected pixels, plot the histogram of pixel value. What are the difference in different regions?, and how can that help to distinguish a pixel that belongs to aneuron from a background pixel?\n",
    "\n",
    "* If we can already see the calcium traces from individual pixels, why do we need to run source extraction to segment the neurons? Why, as a starter, would not be a good idea to work directly with the temporal traces of the pixels? "
   ]
  },
  {
   "cell_type": "code",
   "execution_count": 1,
   "metadata": {},
   "outputs": [
    {
     "name": "stderr",
     "output_type": "stream",
     "text": [
      "\n",
      "KeyboardInterrupt\n",
      "\n"
     ]
    }
   ],
   "source": [
    "import numpy as np\n",
    "import pylab as pl\n",
    "import matplotlib.pyplot as plt\n",
    "from matplotlib.patches import Rectangle\n",
    "import psutil\n",
    "from pathlib import Path\n",
    "import sys\n",
    "import os\n",
    "sys.path.append(os.path.abspath(\"code\"))\n",
    "from utils import download_data\n",
    "import auxiliary_functions as aux\n",
    "\n",
    "# CaImAn funtions and objects\n",
    "import caiman as cm\n",
    "from caiman.motion_correction import MotionCorrect, high_pass_filter_space\n",
    "from caiman.source_extraction.cnmf import params as params\n",
    "from caiman.source_extraction import cnmf\n",
    "from caiman.source_extraction.cnmf.cnmf import load_CNMF"
   ]
  },
  {
   "cell_type": "markdown",
   "metadata": {},
   "source": [
    "#### Part A: Distinguishing Pixels\n"
   ]
  },
  {
   "cell_type": "code",
   "execution_count": null,
   "metadata": {},
   "outputs": [],
   "source": [
    "# load data\n",
    "download_data('https://surfdrive.surf.nl/files/index.php/s/HeYXPdvMO87fbq7')\n",
    "# ROI data\n",
    "input_tif_file_path = 'data/caiman_video_trial_0.tif' \n",
    "# load movie and compute mean images with caiman functions\n",
    "original_movie = cm.load(input_tif_file_path)\n",
    "mean_image = cm.summary_images.mean_image(input_tif_file_path)\n",
    "correlation_image,pnr_image = cm.summary_images.correlation_pnr(original_movie,swap_dim=False)"
   ]
  },
  {
   "cell_type": "code",
   "execution_count": null,
   "metadata": {},
   "outputs": [],
   "source": [
    "# Plot summary images\n",
    "figure, axes = plt.subplots(1,3,figsize=(15,5))\n",
    "\n",
    "\n",
    "axes[0].set_xlabel('x')\n",
    "axes[0].set_ylabel('y')\n",
    "axes[0].set_title('Mean Summary Image')\n",
    "\n",
    "axes[1].set_xlabel('x')\n",
    "axes[1].set_ylabel('y')\n",
    "axes[1].set_title('Correlation Summary  Image')\n",
    "\n",
    "axes[2].set_xlabel('x')\n",
    "axes[2].set_ylabel('y')\n",
    "axes[2].set_title('PNR image')\n",
    "\n",
    "mesh0 = axes[0].pcolormesh(mean_image)\n",
    "mesh1 = axes[1].pcolormesh(correlation_image)\n",
    "mesh2 = axes[2].pcolormesh(pnr_image)\n",
    "\n",
    "figure.colorbar(mesh0,ax=axes[0])\n",
    "figure.colorbar(mesh1,ax=axes[1])\n",
    "figure.colorbar(mesh2,ax=axes[2])\n",
    "\n",
    "\n",
    "plt.tight_layout()"
   ]
  },
  {
   "cell_type": "markdown",
   "metadata": {},
   "source": [
    "## Exercise 2: motion correction parameters\n",
    "---\n",
    "\n",
    "One parameter that impacts motion correction performance is the size of the spatial filter that is applyed to the video.\n",
    "\n",
    "* Use the following function from CaImAn and plot the result of different space filtering applyed to a single frame of the video:from caiman.motion_correction import high_pass_filter_space\n",
    "\n",
    "* How will this filtering affect the measure of crispness?\n",
    "\n",
    "* Acording to Pnevmatikakis et al, which other factors are relevant for pw-rigid motion correction?\n",
    "\n",
    "- Explore the impact of different parameters in the output of motion correction algorithm by measuring crispness in the correlation image of the final outcome. Particularly measure the effect of different spatial filter size by applying motion correction algorithm multiple times and computing the crispness of the output video. \n",
    "\n",
    "- Display all crispness values for rigid and not rigid motion correction and plot them agains gSig_filters values.\n",
    "\n",
    "- If possible, show the impact of the crispness value that comes from changing other relevant paraments.\n",
    "\n",
    "*Note1: The is no need to save all the motion corrected movies, just save the cripsness values.*\n",
    "\n",
    "*Note2: gSig_filters is an optional range of posible values, but if your computer gets to slow in the computation reduce the range.*\n"
   ]
  },
  {
   "cell_type": "markdown",
   "metadata": {},
   "source": [
    "## Exercise 3: Source extraction parameters \n",
    "---\n",
    "\n",
    "* For a fixed minimum correlation value (ie 0.6) select a range of possible PNR minimun values and study the impact of those in the final source extraction output.\n",
    "\n",
    "* For a fixed value of PNR (ie 6) select a range of minimum correlation valur and study the impact of those in the final source extraction output.\n",
    "\n",
    "* How do these paramenters affect the spatial sparcity of the output? Which set of parameter selection procedes the higher number of neurons? Is maximal number of neurons always better? Why?  \n",
    "\n",
    "* Generate a plot of number of neurons vs PNR (or min corr value) to show how these parameters affect the source extracted signals.\n",
    "\n",
    "* Are the temporal traces affected by these parameters?\n",
    "\n",
    "* For different PNR and minimum correlation value plot the correlation image and the selected cells."
   ]
  }
 ],
 "metadata": {
  "kernelspec": {
   "display_name": "Python 3 (ipykernel)",
   "language": "python",
   "name": "python3"
  },
  "language_info": {
   "codemirror_mode": {
    "name": "ipython",
    "version": 3
   },
   "file_extension": ".py",
   "mimetype": "text/x-python",
   "name": "python",
   "nbconvert_exporter": "python",
   "pygments_lexer": "ipython3",
   "version": "3.11.12"
  },
  "vscode": {
   "interpreter": {
    "hash": "31f2aee4e71d21fbe5cf8b01ff0e069b9275f58929596ceb00d14d90e3e16cd6"
   }
  }
 },
 "nbformat": 4,
 "nbformat_minor": 4
}
